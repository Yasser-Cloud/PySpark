{
 "cells": [
  {
   "cell_type": "markdown",
   "id": "abbf1e33",
   "metadata": {
    "id": "abbf1e33"
   },
   "source": [
    "##### **Good luck with taking your exam. Keep working and make your dreams all come true. Seeing the results of all of your hard work will make this struggle worth it. We’re all thinking of you.** \n",
    "<b><font color='blue'>AI-PRO Spark Team ITI</font></b>"
   ]
  },
  {
   "cell_type": "markdown",
   "id": "8326ba88",
   "metadata": {
    "id": "8326ba88"
   },
   "source": [
    "## Objective:\n",
    "- The objective from this project is to create a <b>Logistic Regression Classifier</b> to predict the <b>Stroke Condition</b>.\n",
    "- <b>Stoke</b> is a condition in which either the blood flow to the brain stops or blood flow is excessive.\n",
    "- It is required to obtain <b>ROC > 0.65</b>."
   ]
  },
  {
   "cell_type": "markdown",
   "id": "0eb78c16",
   "metadata": {
    "id": "0eb78c16"
   },
   "source": [
    "### Data:\n",
    "- Data is provided in csv format in a file named <b>healthcare-dataset-stroke-data.csv</b>"
   ]
  },
  {
   "cell_type": "markdown",
   "id": "7c842b79",
   "metadata": {
    "id": "7c842b79"
   },
   "source": [
    "### Column names and data types are as follow:\n",
    "- id, integer.\n",
    "- gender, string.\n",
    "- age, double.\n",
    "- hypertension, integer.\n",
    "- heart_disease, integer.\n",
    "- ever_married, string.\n",
    "- work_type, string.\n",
    "- Residence_type, string.\n",
    "- avg_glucose_level, double.\n",
    "- bmi, double.\n",
    "- smoking_status, string.\n",
    "- stroke, integer <b>(Target Label)</b>.\n",
    "If the person has stroke the stroke label value is <b>\"1\"</b> otherwise <b>\"0\"</b>."
   ]
  },
  {
   "cell_type": "markdown",
   "id": "6971f788",
   "metadata": {
    "id": "6971f788"
   },
   "source": [
    "## To perform this task follow the following guiding steps:"
   ]
  },
  {
   "cell_type": "code",
   "execution_count": 1,
   "id": "FxT8Lo8wsXC0",
   "metadata": {
    "colab": {
     "base_uri": "https://localhost:8080/"
    },
    "id": "FxT8Lo8wsXC0",
    "outputId": "465319b9-2aa7-454e-e7be-17f262aa1f34"
   },
   "outputs": [
    {
     "name": "stdout",
     "output_type": "stream",
     "text": [
      "Requirement already satisfied: pyspark in /home/mahmoud/anaconda3/lib/python3.9/site-packages (3.2.1)\n",
      "Requirement already satisfied: py4j==0.10.9.3 in /home/mahmoud/anaconda3/lib/python3.9/site-packages (from pyspark) (0.10.9.3)\n"
     ]
    }
   ],
   "source": [
    "!pip install pyspark"
   ]
  },
  {
   "cell_type": "code",
   "execution_count": 2,
   "id": "t8weYkdG2rSD",
   "metadata": {
    "colab": {
     "base_uri": "https://localhost:8080/"
    },
    "id": "t8weYkdG2rSD",
    "outputId": "5610e181-4720-489b-d613-ccdc5fc4a9d8"
   },
   "outputs": [
    {
     "name": "stdout",
     "output_type": "stream",
     "text": [
      "Requirement already satisfied: pyspark_dist_explore in /home/mahmoud/anaconda3/lib/python3.9/site-packages (0.1.8)\n",
      "Requirement already satisfied: matplotlib in /home/mahmoud/anaconda3/lib/python3.9/site-packages (from pyspark_dist_explore) (3.4.3)\n",
      "Requirement already satisfied: pandas in /home/mahmoud/anaconda3/lib/python3.9/site-packages (from pyspark_dist_explore) (1.3.4)\n",
      "Requirement already satisfied: scipy in /home/mahmoud/anaconda3/lib/python3.9/site-packages (from pyspark_dist_explore) (1.7.1)\n",
      "Requirement already satisfied: numpy in /home/mahmoud/anaconda3/lib/python3.9/site-packages (from pyspark_dist_explore) (1.20.3)\n",
      "Requirement already satisfied: pyparsing>=2.2.1 in /home/mahmoud/anaconda3/lib/python3.9/site-packages (from matplotlib->pyspark_dist_explore) (3.0.4)\n",
      "Requirement already satisfied: cycler>=0.10 in /home/mahmoud/anaconda3/lib/python3.9/site-packages (from matplotlib->pyspark_dist_explore) (0.10.0)\n",
      "Requirement already satisfied: kiwisolver>=1.0.1 in /home/mahmoud/anaconda3/lib/python3.9/site-packages (from matplotlib->pyspark_dist_explore) (1.3.1)\n",
      "Requirement already satisfied: python-dateutil>=2.7 in /home/mahmoud/anaconda3/lib/python3.9/site-packages (from matplotlib->pyspark_dist_explore) (2.8.2)\n",
      "Requirement already satisfied: pillow>=6.2.0 in /home/mahmoud/anaconda3/lib/python3.9/site-packages (from matplotlib->pyspark_dist_explore) (8.4.0)\n",
      "Requirement already satisfied: six in /home/mahmoud/anaconda3/lib/python3.9/site-packages (from cycler>=0.10->matplotlib->pyspark_dist_explore) (1.16.0)\n",
      "Requirement already satisfied: pytz>=2017.3 in /home/mahmoud/anaconda3/lib/python3.9/site-packages (from pandas->pyspark_dist_explore) (2021.3)\n"
     ]
    }
   ],
   "source": [
    "!pip install pyspark_dist_explore"
   ]
  },
  {
   "cell_type": "markdown",
   "id": "e31bc851",
   "metadata": {
    "id": "e31bc851"
   },
   "source": [
    "### Create a spark session and import the required libraries"
   ]
  },
  {
   "cell_type": "code",
   "execution_count": 250,
   "id": "ab3ba311",
   "metadata": {
    "id": "ab3ba311"
   },
   "outputs": [],
   "source": [
    "from pyspark.sql import SparkSession\n",
    "import pyspark.sql.functions as F\n",
    "from pyspark.sql.types import DoubleType,IntegerType, StringType, StructType, StructField\n",
    "spark = SparkSession.builder.getOrCreate()"
   ]
  },
  {
   "cell_type": "markdown",
   "id": "843b8468",
   "metadata": {
    "id": "843b8468"
   },
   "source": [
    "### Create a data schema programatically"
   ]
  },
  {
   "cell_type": "code",
   "execution_count": 251,
   "id": "8616fe16",
   "metadata": {
    "id": "8616fe16"
   },
   "outputs": [],
   "source": [
    "#df = spark.read.csv(\"/content/healthcare-dataset-stroke-data.csv\", header=\"true\", inferSchema=\"true\")\n",
    "#df.printSchema()\n",
    "schema =StructType([\n",
    "        StructField('id',IntegerType()),\n",
    "         StructField('gender',StringType()),\n",
    "         StructField('age',DoubleType()),\n",
    "         StructField('hypertension',IntegerType()),\n",
    "         StructField('heart_disease',IntegerType()),\n",
    "         StructField('ever_married',StringType()),\n",
    "         StructField('work_type',StringType()),\n",
    "         StructField('Residence_type',StringType()),\n",
    "         StructField('avg_glucose_level',DoubleType()),\n",
    "         StructField ('bmi',StringType()),\n",
    "         StructField ('smoking_status',StringType()),\n",
    "         StructField('stroke',IntegerType())\n",
    "\n",
    "])"
   ]
  },
  {
   "cell_type": "markdown",
   "id": "2d00718f",
   "metadata": {
    "id": "2d00718f"
   },
   "source": [
    "### Read the data using the standard DataReader (Key,Value) pairs format\n",
    "- Provide the schema and any other required options."
   ]
  },
  {
   "cell_type": "code",
   "execution_count": 252,
   "id": "61fcc4cd",
   "metadata": {
    "id": "61fcc4cd"
   },
   "outputs": [],
   "source": [
    "df = spark.read.csv(\"healthcare-dataset-stroke-data.csv\", header=\"true\", schema= schema)\n"
   ]
  },
  {
   "cell_type": "markdown",
   "id": "974bc193",
   "metadata": {
    "id": "974bc193"
   },
   "source": [
    "### Explore the data \n",
    "#### You have to do the following:\n",
    "- Print the Schema.\n",
    "- Show the first 10 rows from the data.\n",
    "- Explore null values and show how many null values in each column.\n",
    "- Plot a count plot for the target label and <b>notice the graph</b>.\n",
    "- Perform any additional EDA you find useful."
   ]
  },
  {
   "cell_type": "code",
   "execution_count": 253,
   "id": "353b6f34",
   "metadata": {
    "colab": {
     "base_uri": "https://localhost:8080/"
    },
    "id": "353b6f34",
    "outputId": "e4348619-2871-4d93-d651-1d141c4776c6"
   },
   "outputs": [
    {
     "name": "stdout",
     "output_type": "stream",
     "text": [
      "root\n",
      " |-- id: integer (nullable = true)\n",
      " |-- gender: string (nullable = true)\n",
      " |-- age: double (nullable = true)\n",
      " |-- hypertension: integer (nullable = true)\n",
      " |-- heart_disease: integer (nullable = true)\n",
      " |-- ever_married: string (nullable = true)\n",
      " |-- work_type: string (nullable = true)\n",
      " |-- Residence_type: string (nullable = true)\n",
      " |-- avg_glucose_level: double (nullable = true)\n",
      " |-- bmi: string (nullable = true)\n",
      " |-- smoking_status: string (nullable = true)\n",
      " |-- stroke: integer (nullable = true)\n",
      "\n",
      "+-----+------+----+------------+-------------+------------+-------------+--------------+-----------------+----+---------------+------+\n",
      "|   id|gender| age|hypertension|heart_disease|ever_married|    work_type|Residence_type|avg_glucose_level| bmi| smoking_status|stroke|\n",
      "+-----+------+----+------------+-------------+------------+-------------+--------------+-----------------+----+---------------+------+\n",
      "| 9046|  Male|67.0|           0|            1|         Yes|      Private|         Urban|           228.69|36.6|formerly smoked|     1|\n",
      "|51676|Female|61.0|           0|            0|         Yes|Self-employed|         Rural|           202.21| N/A|   never smoked|     1|\n",
      "|31112|  Male|80.0|           0|            1|         Yes|      Private|         Rural|           105.92|32.5|   never smoked|     1|\n",
      "|60182|Female|49.0|           0|            0|         Yes|      Private|         Urban|           171.23|34.4|         smokes|     1|\n",
      "| 1665|Female|79.0|           1|            0|         Yes|Self-employed|         Rural|           174.12|  24|   never smoked|     1|\n",
      "|56669|  Male|81.0|           0|            0|         Yes|      Private|         Urban|           186.21|  29|formerly smoked|     1|\n",
      "|53882|  Male|74.0|           1|            1|         Yes|      Private|         Rural|            70.09|27.4|   never smoked|     1|\n",
      "|10434|Female|69.0|           0|            0|          No|      Private|         Urban|            94.39|22.8|   never smoked|     1|\n",
      "|27419|Female|59.0|           0|            0|         Yes|      Private|         Rural|            76.15| N/A|        Unknown|     1|\n",
      "|60491|Female|78.0|           0|            0|         Yes|      Private|         Urban|            58.57|24.2|        Unknown|     1|\n",
      "+-----+------+----+------------+-------------+------------+-------------+--------------+-----------------+----+---------------+------+\n",
      "only showing top 10 rows\n",
      "\n",
      "[('bmi', 201)]\n"
     ]
    }
   ],
   "source": [
    "df.printSchema()\n",
    "df.show(10)\n",
    "null_columns = []\n",
    "for col_name in df.columns:\n",
    "    null_values = df.where((F.col(col_name).isNull())|(F.col(col_name)=='N/A')|(F.col(col_name)=='null')).count()\n",
    "    if(null_values > 0):\n",
    "        null_columns.append((col_name, null_values))\n",
    "print(null_columns)"
   ]
  },
  {
   "cell_type": "code",
   "execution_count": 254,
   "id": "FFLouBW5z8hE",
   "metadata": {
    "colab": {
     "base_uri": "https://localhost:8080/",
     "height": 279
    },
    "id": "FFLouBW5z8hE",
    "outputId": "fbf45829-7587-4318-c35c-8e72ef981140"
   },
   "outputs": [
    {
     "data": {
      "image/png": "[encoded data removed]",
      "text/plain": [
       "<Figure size 432x288 with 1 Axes>"
      ]
     },
     "metadata": {
      "needs_background": "light"
     },
     "output_type": "display_data"
    }
   ],
   "source": [
    "import pandas as pd\n",
    "import seaborn as sns\n",
    "import matplotlib.pyplot as plt\n",
    "countplot =df.toPandas()\n",
    "\n",
    "\n",
    "sns.countplot(x=\"stroke\", data=countplot)\n",
    "plt.show()"
   ]
  },
  {
   "cell_type": "code",
   "execution_count": 255,
   "id": "A87bhYDV2zrk",
   "metadata": {
    "id": "A87bhYDV2zrk"
   },
   "outputs": [
    {
     "data": {
      "text/plain": [
       "0    4861\n",
       "1     249\n",
       "Name: stroke, dtype: int64"
      ]
     },
     "execution_count": 255,
     "metadata": {},
     "output_type": "execute_result"
    }
   ],
   "source": [
    "countplot['stroke'].value_counts()\n"
   ]
  },
  {
   "cell_type": "code",
   "execution_count": null,
   "id": "6fb198f0",
   "metadata": {
    "id": "6fb198f0"
   },
   "outputs": [],
   "source": []
  },
  {
   "cell_type": "markdown",
   "id": "59b770cb",
   "metadata": {
    "id": "59b770cb"
   },
   "source": [
    "### Get the summary statistics of the age column\n",
    "- You will find the minimum age is about <b>0.08</b>.\n",
    "- Remove rows for the age below <b>2 years old</b>."
   ]
  },
  {
   "cell_type": "code",
   "execution_count": 256,
   "id": "ed40fb11",
   "metadata": {
    "colab": {
     "base_uri": "https://localhost:8080/"
    },
    "id": "ed40fb11",
    "outputId": "51d68a96-7e70-4d46-f765-8a44fee5d5ce"
   },
   "outputs": [
    {
     "name": "stdout",
     "output_type": "stream",
     "text": [
      "+-------+------------------+\n",
      "|summary|               age|\n",
      "+-------+------------------+\n",
      "|  count|              5110|\n",
      "|   mean|43.226614481409015|\n",
      "| stddev| 22.61264672311348|\n",
      "|    min|              0.08|\n",
      "|    max|              82.0|\n",
      "+-------+------------------+\n",
      "\n",
      "+-------+------------------+\n",
      "|summary|               age|\n",
      "+-------+------------------+\n",
      "|  count|              4990|\n",
      "|   mean| 44.23907815631262|\n",
      "| stddev|21.908077881917443|\n",
      "|    min|               2.0|\n",
      "|    max|              82.0|\n",
      "+-------+------------------+\n",
      "\n"
     ]
    }
   ],
   "source": [
    "df.describe('age').show()\n",
    "df1 = df.filter('age >=2')\n",
    "df1.describe('age').show()"
   ]
  },
  {
   "cell_type": "code",
   "execution_count": null,
   "id": "cc99c0be",
   "metadata": {
    "id": "cc99c0be"
   },
   "outputs": [],
   "source": []
  },
  {
   "cell_type": "markdown",
   "id": "bf8c9498",
   "metadata": {
    "id": "bf8c9498"
   },
   "source": [
    "### Working with gender & smoking_status columns:\n",
    "- Select and show the gender & smoking_status columns\n",
    "- Get the distinct values for each column."
   ]
  },
  {
   "cell_type": "code",
   "execution_count": 257,
   "id": "925a5ecd",
   "metadata": {
    "colab": {
     "base_uri": "https://localhost:8080/"
    },
    "id": "925a5ecd",
    "outputId": "d4cf3f24-05a2-4f44-a98b-61d5b67afd5f"
   },
   "outputs": [
    {
     "name": "stdout",
     "output_type": "stream",
     "text": [
      "+------+---------------+\n",
      "|gender| smoking_status|\n",
      "+------+---------------+\n",
      "|  Male|formerly smoked|\n",
      "|Female|   never smoked|\n",
      "|  Male|   never smoked|\n",
      "|Female|         smokes|\n",
      "|Female|   never smoked|\n",
      "|  Male|formerly smoked|\n",
      "|  Male|   never smoked|\n",
      "|Female|   never smoked|\n",
      "|Female|        Unknown|\n",
      "|Female|        Unknown|\n",
      "|Female|   never smoked|\n",
      "|Female|         smokes|\n",
      "|Female|         smokes|\n",
      "|  Male|        Unknown|\n",
      "|Female|   never smoked|\n",
      "|Female|   never smoked|\n",
      "|  Male|         smokes|\n",
      "|  Male|         smokes|\n",
      "|Female|   never smoked|\n",
      "|  Male|        Unknown|\n",
      "+------+---------------+\n",
      "only showing top 20 rows\n",
      "\n"
     ]
    }
   ],
   "source": [
    "df1.select('gender','smoking_status').show(20)"
   ]
  },
  {
   "cell_type": "code",
   "execution_count": 258,
   "id": "9dfe35a4",
   "metadata": {
    "colab": {
     "base_uri": "https://localhost:8080/"
    },
    "id": "9dfe35a4",
    "outputId": "22797a2f-5af6-46dd-dfa9-9c74b0317aa0"
   },
   "outputs": [
    {
     "name": "stdout",
     "output_type": "stream",
     "text": [
      "+------+\n",
      "|gender|\n",
      "+------+\n",
      "|Female|\n",
      "| Other|\n",
      "|  Male|\n",
      "+------+\n",
      "\n"
     ]
    }
   ],
   "source": [
    "df1.select('gender').distinct().show()"
   ]
  },
  {
   "cell_type": "code",
   "execution_count": 259,
   "id": "b7bf6c7e",
   "metadata": {
    "colab": {
     "base_uri": "https://localhost:8080/"
    },
    "id": "b7bf6c7e",
    "outputId": "ac6e0cce-c39e-42f3-ec59-f98cc8df1466"
   },
   "outputs": [
    {
     "name": "stdout",
     "output_type": "stream",
     "text": [
      "+---------------+\n",
      "| smoking_status|\n",
      "+---------------+\n",
      "|         smokes|\n",
      "|        Unknown|\n",
      "|   never smoked|\n",
      "|formerly smoked|\n",
      "+---------------+\n",
      "\n"
     ]
    }
   ],
   "source": [
    "df1.select('smoking_status').distinct().show()"
   ]
  },
  {
   "cell_type": "markdown",
   "id": "850bdfe1",
   "metadata": {
    "id": "850bdfe1"
   },
   "source": [
    "#### Change the string values of the columns into numerical values as follow:\n",
    "1. Gender column:\n",
    "    * Male = 1 \n",
    "    * Female = 0 \n",
    "    * Other = 0 \n",
    "2. Smoking Status column:\n",
    "  * never smoked = 0\n",
    "  * Unknown = 0.5\n",
    "  * formerly smoked = 0.75\n",
    "  * smokes = 1.0\n"
   ]
  },
  {
   "cell_type": "code",
   "execution_count": 260,
   "id": "355f2ef0",
   "metadata": {
    "id": "355f2ef0"
   },
   "outputs": [],
   "source": [
    "Gender_map = {\n",
    " \n",
    " 'Male': 1,\n",
    " 'Female': 0,\n",
    " 'Other': 0,\n",
    " \n",
    "}\n",
    "\n",
    "Smoking_map = {\n",
    " \n",
    " 'smokes': 1.0,\n",
    " 'never smoked': 0.0,\n",
    " 'formerly smoked' : 0.75,\n",
    " 'Unknown' :0.5\n",
    " \n",
    "}\n",
    "\n",
    "def impute_title(title):\n",
    "    return Gender_map[title]\n",
    "def impute_title2(title):\n",
    "    return Smoking_map[title]"
   ]
  },
  {
   "cell_type": "markdown",
   "id": "3da38a31",
   "metadata": {
    "id": "3da38a31"
   },
   "source": [
    "#### Show the output DataFrame\n",
    "- Select and show the gender & smoking_status columns after value changing.\n",
    "- Print schema for the new dataframe."
   ]
  },
  {
   "cell_type": "code",
   "execution_count": 261,
   "id": "7df0cf29",
   "metadata": {
    "id": "7df0cf29"
   },
   "outputs": [],
   "source": [
    "title_map_func = F.udf(lambda x: impute_title(x), IntegerType())\n",
    "df1 = df1.withColumn('gender', title_map_func('gender'))\n",
    "\n",
    "\n",
    "title_map_func = F.udf(lambda x: impute_title2(x), DoubleType())\n",
    "\n",
    "df1 = df1.withColumn('smoking_status', title_map_func('smoking_status'))\n"
   ]
  },
  {
   "cell_type": "code",
   "execution_count": 262,
   "id": "B9bd3tGA-eIP",
   "metadata": {
    "colab": {
     "base_uri": "https://localhost:8080/"
    },
    "id": "B9bd3tGA-eIP",
    "outputId": "91d0b03e-273a-4a81-a8c3-b83c04e6e36a"
   },
   "outputs": [
    {
     "name": "stdout",
     "output_type": "stream",
     "text": [
      "+------+--------------+\n",
      "|gender|smoking_status|\n",
      "+------+--------------+\n",
      "|     1|          0.75|\n",
      "|     0|           0.0|\n",
      "|     1|           0.0|\n",
      "|     0|           1.0|\n",
      "|     0|           0.0|\n",
      "|     1|          0.75|\n",
      "|     1|           0.0|\n",
      "|     0|           0.0|\n",
      "|     0|           0.5|\n",
      "|     0|           0.5|\n",
      "|     0|           0.0|\n",
      "|     0|           1.0|\n",
      "|     0|           1.0|\n",
      "|     1|           0.5|\n",
      "|     0|           0.0|\n",
      "|     0|           0.0|\n",
      "|     1|           1.0|\n",
      "|     1|           1.0|\n",
      "|     0|           0.0|\n",
      "|     1|           0.5|\n",
      "+------+--------------+\n",
      "only showing top 20 rows\n",
      "\n"
     ]
    }
   ],
   "source": [
    "df1.select('gender','smoking_status').show()"
   ]
  },
  {
   "cell_type": "code",
   "execution_count": 263,
   "id": "1f4b6472-fa9c-4109-97a7-2a205e70e9ff",
   "metadata": {},
   "outputs": [
    {
     "data": {
      "text/plain": [
       "[('id', 'int'),\n",
       " ('gender', 'int'),\n",
       " ('age', 'double'),\n",
       " ('hypertension', 'int'),\n",
       " ('heart_disease', 'int'),\n",
       " ('ever_married', 'string'),\n",
       " ('work_type', 'string'),\n",
       " ('Residence_type', 'string'),\n",
       " ('avg_glucose_level', 'double'),\n",
       " ('bmi', 'string'),\n",
       " ('smoking_status', 'double'),\n",
       " ('stroke', 'int')]"
      ]
     },
     "execution_count": 263,
     "metadata": {},
     "output_type": "execute_result"
    }
   ],
   "source": [
    "df1.dtypes"
   ]
  },
  {
   "cell_type": "markdown",
   "id": "89ce3b77",
   "metadata": {
    "id": "89ce3b77"
   },
   "source": [
    "### Deal with null value according to your data analysis."
   ]
  },
  {
   "cell_type": "code",
   "execution_count": 264,
   "id": "4d78cb87",
   "metadata": {
    "colab": {
     "base_uri": "https://localhost:8080/"
    },
    "id": "4d78cb87",
    "outputId": "17424d66-c23e-4047-9417-e989deac665a"
   },
   "outputs": [
    {
     "data": {
      "text/plain": [
       "29"
      ]
     },
     "execution_count": 264,
     "metadata": {},
     "output_type": "execute_result"
    }
   ],
   "source": [
    "df1.createOrReplaceTempView('combined')\n",
    "\n",
    "round(spark.sql(\"SELECT AVG(bmi) FROM combined\").collect()[0][0])\n"
   ]
  },
  {
   "cell_type": "code",
   "execution_count": 265,
   "id": "Ird8NyzsCCyY",
   "metadata": {
    "colab": {
     "base_uri": "https://localhost:8080/"
    },
    "id": "Ird8NyzsCCyY",
    "outputId": "f70ec79c-cf32-43f8-f339-0ef8369a12f4"
   },
   "outputs": [
    {
     "name": "stdout",
     "output_type": "stream",
     "text": [
      "+-----+------+----+------------+-------------+------------+-------------+--------------+-----------------+----+--------------+------+\n",
      "|   id|gender| age|hypertension|heart_disease|ever_married|    work_type|Residence_type|avg_glucose_level| bmi|smoking_status|stroke|\n",
      "+-----+------+----+------------+-------------+------------+-------------+--------------+-----------------+----+--------------+------+\n",
      "| 9046|     1|67.0|           0|            1|         Yes|      Private|         Urban|           228.69|36.6|          0.75|     1|\n",
      "|51676|     0|61.0|           0|            0|         Yes|Self-employed|         Rural|           202.21|29.0|           0.0|     1|\n",
      "|31112|     1|80.0|           0|            1|         Yes|      Private|         Rural|           105.92|32.5|           0.0|     1|\n",
      "|60182|     0|49.0|           0|            0|         Yes|      Private|         Urban|           171.23|34.4|           1.0|     1|\n",
      "| 1665|     0|79.0|           1|            0|         Yes|Self-employed|         Rural|           174.12|24.0|           0.0|     1|\n",
      "|56669|     1|81.0|           0|            0|         Yes|      Private|         Urban|           186.21|29.0|          0.75|     1|\n",
      "|53882|     1|74.0|           1|            1|         Yes|      Private|         Rural|            70.09|27.4|           0.0|     1|\n",
      "|10434|     0|69.0|           0|            0|          No|      Private|         Urban|            94.39|22.8|           0.0|     1|\n",
      "|27419|     0|59.0|           0|            0|         Yes|      Private|         Rural|            76.15|29.0|           0.5|     1|\n",
      "|60491|     0|78.0|           0|            0|         Yes|      Private|         Urban|            58.57|24.2|           0.5|     1|\n",
      "|12109|     0|81.0|           1|            0|         Yes|      Private|         Rural|            80.43|29.7|           0.0|     1|\n",
      "|12095|     0|61.0|           0|            1|         Yes|     Govt_job|         Rural|           120.46|36.8|           1.0|     1|\n",
      "|12175|     0|54.0|           0|            0|         Yes|      Private|         Urban|           104.51|27.3|           1.0|     1|\n",
      "| 8213|     1|78.0|           0|            1|         Yes|      Private|         Urban|           219.84|29.0|           0.5|     1|\n",
      "| 5317|     0|79.0|           0|            1|         Yes|      Private|         Urban|           214.09|28.2|           0.0|     1|\n",
      "|58202|     0|50.0|           1|            0|         Yes|Self-employed|         Rural|           167.41|30.9|           0.0|     1|\n",
      "|56112|     1|64.0|           0|            1|         Yes|      Private|         Urban|           191.61|37.5|           1.0|     1|\n",
      "|34120|     1|75.0|           1|            0|         Yes|      Private|         Urban|           221.29|25.8|           1.0|     1|\n",
      "|27458|     0|60.0|           0|            0|          No|      Private|         Urban|            89.22|37.8|           0.0|     1|\n",
      "|25226|     1|57.0|           0|            1|          No|     Govt_job|         Urban|           217.08|29.0|           0.5|     1|\n",
      "+-----+------+----+------------+-------------+------------+-------------+--------------+-----------------+----+--------------+------+\n",
      "only showing top 20 rows\n",
      "\n"
     ]
    }
   ],
   "source": [
    "\n",
    "from pyspark.sql.functions import when\n",
    "\n",
    "combined = df1.withColumn(\"bmi\", when(df1[\"bmi\"] == 'N/A', '29').otherwise(df1[\"bmi\"]))\n",
    "combined = combined.withColumn(\"bmi\",combined[\"bmi\"].cast(DoubleType()))\n",
    "#combined = df1['bmi'].map('N/A','29')\n",
    "combined.show()"
   ]
  },
  {
   "cell_type": "markdown",
   "id": "053c429a",
   "metadata": {
    "id": "053c429a"
   },
   "source": [
    "### Split the data into training and test dataframes:\n",
    "- 80% training and 20% test.\n",
    "- seed = 42.\n",
    "- Save each dataframe as a parquet file"
   ]
  },
  {
   "cell_type": "code",
   "execution_count": 266,
   "id": "0236ea8b",
   "metadata": {
    "id": "0236ea8b"
   },
   "outputs": [],
   "source": [
    "X_train, X_test = combined.randomSplit([0.8, 0.2],seed = 42)\n",
    "X_train.write.parquet(\"train.parquet\")\n",
    "X_test.write.parquet(\"test.parquet\")"
   ]
  },
  {
   "cell_type": "markdown",
   "id": "78fa24da",
   "metadata": {
    "id": "78fa24da"
   },
   "source": [
    "### Read the saved Train and Test DataFrame:\n",
    "- Use the dataframes you read in the subsequent steps."
   ]
  },
  {
   "cell_type": "code",
   "execution_count": 312,
   "id": "c3f5c1e3",
   "metadata": {
    "id": "c3f5c1e3"
   },
   "outputs": [],
   "source": [
    "X_train=spark.read.parquet(\"train.parquet\")\n",
    "X_test=spark.read.parquet(\"test.parquet\")"
   ]
  },
  {
   "cell_type": "markdown",
   "id": "987b4b40",
   "metadata": {
    "id": "987b4b40"
   },
   "source": [
    "### Create the model:\n",
    "- Perform feature engineering steps.\n",
    "- Create the logistic regression classifier.\n",
    "- Build the pipeline model that uses all feature engineering steps and the model.\n",
    "- Train the pipeline model using the trainig dataset."
   ]
  },
  {
   "cell_type": "code",
   "execution_count": 313,
   "id": "3278e362",
   "metadata": {
    "id": "3278e362"
   },
   "outputs": [],
   "source": [
    "from pyspark.ml.feature import StringIndexer, VectorAssembler,OneHotEncoder\n",
    "from pyspark.ml import Pipeline\n",
    "from pyspark.ml.classification import LogisticRegression\n"
   ]
  },
  {
   "cell_type": "code",
   "execution_count": 314,
   "id": "e952a127-6862-47fb-a750-3a527a0212b0",
   "metadata": {},
   "outputs": [
    {
     "data": {
      "text/plain": [
       "[('id', 'int'),\n",
       " ('gender', 'int'),\n",
       " ('age', 'double'),\n",
       " ('hypertension', 'int'),\n",
       " ('heart_disease', 'int'),\n",
       " ('ever_married', 'string'),\n",
       " ('work_type', 'string'),\n",
       " ('Residence_type', 'string'),\n",
       " ('avg_glucose_level', 'double'),\n",
       " ('bmi', 'double'),\n",
       " ('smoking_status', 'double'),\n",
       " ('stroke', 'int')]"
      ]
     },
     "execution_count": 314,
     "metadata": {},
     "output_type": "execute_result"
    }
   ],
   "source": [
    "combined.dtypes"
   ]
  },
  {
   "cell_type": "code",
   "execution_count": 315,
   "id": "GPxaca_fGn8D",
   "metadata": {
    "colab": {
     "base_uri": "https://localhost:8080/"
    },
    "id": "GPxaca_fGn8D",
    "outputId": "cef641a4-6567-4468-9550-847f90e5c4c5"
   },
   "outputs": [
    {
     "data": {
      "text/plain": [
       "['ever_married', 'work_type', 'Residence_type']"
      ]
     },
     "execution_count": 315,
     "metadata": {},
     "output_type": "execute_result"
    }
   ],
   "source": [
    "categoricalCols = [field for (field, dataType) in combined.dtypes\n",
    "                   if dataType == \"string\"]\n",
    "categoricalCols"
   ]
  },
  {
   "cell_type": "code",
   "execution_count": 316,
   "id": "4e41b352",
   "metadata": {
    "colab": {
     "base_uri": "https://localhost:8080/"
    },
    "id": "4e41b352",
    "outputId": "953fc62d-e1aa-4497-be4f-390c018285cc"
   },
   "outputs": [
    {
     "data": {
      "text/plain": [
       "['gender',\n",
       " 'age',\n",
       " 'hypertension',\n",
       " 'heart_disease',\n",
       " 'avg_glucose_level',\n",
       " 'bmi',\n",
       " 'smoking_status']"
      ]
     },
     "execution_count": 316,
     "metadata": {},
     "output_type": "execute_result"
    }
   ],
   "source": [
    "numericCols = [field for (field,dataType) in combined.dtypes\n",
    "              if (((dataType=='double')|(dataType=='int'))& (field!='stroke')&(field!='id'))]\n",
    "numericCols"
   ]
  },
  {
   "cell_type": "code",
   "execution_count": 317,
   "id": "8WktirDMGw69",
   "metadata": {
    "colab": {
     "base_uri": "https://localhost:8080/"
    },
    "id": "8WktirDMGw69",
    "outputId": "1231bfc9-558c-4c6e-a53e-92afaae8ad73"
   },
   "outputs": [
    {
     "name": "stdout",
     "output_type": "stream",
     "text": [
      "['ever_married_Index', 'work_type_Index', 'Residence_type_Index']\n",
      "['ever_married_OHE', 'work_type_OHE', 'Residence_type_OHE']\n"
     ]
    }
   ],
   "source": [
    "indexOutputCols = [x + \"_Index\" for x in categoricalCols]\n",
    "print(indexOutputCols)\n",
    "oheOutputCols = [x + \"_OHE\" for x in categoricalCols]\n",
    "print(oheOutputCols)"
   ]
  },
  {
   "cell_type": "markdown",
   "id": "842ea0a8-6239-4573-8970-c955a624b71e",
   "metadata": {},
   "source": [
    "### String Indexer"
   ]
  },
  {
   "cell_type": "code",
   "execution_count": 318,
   "id": "ede5b37f-a815-438c-9ac9-33cf1dc825f6",
   "metadata": {},
   "outputs": [],
   "source": [
    "stringIndexer = StringIndexer(inputCols=categoricalCols,\n",
    "                             outputCols=indexOutputCols,\n",
    "                             handleInvalid='skip')"
   ]
  },
  {
   "cell_type": "markdown",
   "id": "5632d28e-48fb-443a-971f-0cc300fe0a53",
   "metadata": {},
   "source": [
    "### One hot Encoding"
   ]
  },
  {
   "cell_type": "code",
   "execution_count": 319,
   "id": "3272d1eb-1af8-4fc2-be49-7c6961edf4cc",
   "metadata": {},
   "outputs": [],
   "source": [
    "oheEncoder = OneHotEncoder(inputCols=indexOutputCols,\n",
    "                          outputCols=oheOutputCols)"
   ]
  },
  {
   "cell_type": "markdown",
   "id": "91811aa2-1849-43a8-a260-ed519a5e8108",
   "metadata": {},
   "source": [
    "### Vector Assembler"
   ]
  },
  {
   "cell_type": "code",
   "execution_count": 320,
   "id": "Z17rFMnZGqdF",
   "metadata": {
    "colab": {
     "base_uri": "https://localhost:8080/"
    },
    "id": "Z17rFMnZGqdF",
    "outputId": "23d7dd4d-e8a8-485b-e83e-f26563a463a6"
   },
   "outputs": [
    {
     "data": {
      "text/plain": [
       "['ever_married_OHE',\n",
       " 'work_type_OHE',\n",
       " 'Residence_type_OHE',\n",
       " 'gender',\n",
       " 'age',\n",
       " 'hypertension',\n",
       " 'heart_disease',\n",
       " 'avg_glucose_level',\n",
       " 'bmi',\n",
       " 'smoking_status']"
      ]
     },
     "execution_count": 320,
     "metadata": {},
     "output_type": "execute_result"
    }
   ],
   "source": [
    "assemblerInputs = oheOutputCols + numericCols\n",
    "assemblerInputs"
   ]
  },
  {
   "cell_type": "code",
   "execution_count": 321,
   "id": "106453d7",
   "metadata": {
    "id": "106453d7"
   },
   "outputs": [],
   "source": [
    "vecAssembler = VectorAssembler(inputCols=assemblerInputs,outputCol='features')\n",
    "LR =LogisticRegression(featuresCol = 'features', labelCol = 'stroke')\n",
    "pipeline = Pipeline(stages=[stringIndexer,oheEncoder,vecAssembler,LR])\n",
    "\n",
    "predictions = pipeline.fit(X_train)\n"
   ]
  },
  {
   "cell_type": "markdown",
   "id": "a05c2677",
   "metadata": {
    "id": "a05c2677"
   },
   "source": [
    "### Perform predictions on tests dataframe:\n",
    "- Test the model using the test dataframe\n",
    "- Select and show the feature column.\n",
    "- Print the schema of the output dataframe.\n",
    "- Select and show both prediction and label columns.\n",
    "- Explore the results for the label column stroke=1. i.e. select both columns (prediction,stroke) for stroke=1.<b>notice the result.</b> \n",
    "- Count the predicted 1 and 0 values.<b>notice the result.</b>   "
   ]
  },
  {
   "cell_type": "code",
   "execution_count": 322,
   "id": "d772bef6",
   "metadata": {
    "colab": {
     "base_uri": "https://localhost:8080/"
    },
    "id": "d772bef6",
    "outputId": "5d894bb1-a4a9-4a12-bcfb-dd97920844b8"
   },
   "outputs": [
    {
     "name": "stdout",
     "output_type": "stream",
     "text": [
      "+-----------------------------------------------------------+\n",
      "|features                                                   |\n",
      "+-----------------------------------------------------------+\n",
      "|(13,[0,1,5,6,7,10,11],[1.0,1.0,1.0,1.0,55.0,89.17,31.5])   |\n",
      "|(13,[1,5,7,10,11],[1.0,1.0,24.0,97.55,26.2])               |\n",
      "|(13,[0,1,7,10,11],[1.0,1.0,33.0,86.97,42.2])               |\n",
      "|(13,[0,1,7,10,11,12],[1.0,1.0,43.0,88.23,37.6,0.5])        |\n",
      "|(13,[0,1,5,6,7,10,11],[1.0,1.0,1.0,1.0,79.0,198.79,24.9])  |\n",
      "|(13,[0,1,7,10,11],[1.0,1.0,43.0,110.32,28.4])              |\n",
      "|(13,[0,2,6,7,8,10,11],[1.0,1.0,1.0,78.0,1.0,75.19,27.6])   |\n",
      "|(13,[0,2,5,7,10,11],[1.0,1.0,1.0,74.0,74.96,26.6])         |\n",
      "|(13,[4,7,10,11,12],[1.0,14.0,92.22,22.8,0.5])              |\n",
      "|(13,[0,1,6,7,10,11,12],[1.0,1.0,1.0,69.0,101.52,26.8,1.0]) |\n",
      "|(13,[0,3,6,7,10,11,12],[1.0,1.0,1.0,52.0,87.26,40.1,1.0])  |\n",
      "|(13,[1,7,8,9,10,11,12],[1.0,82.0,1.0,1.0,84.03,26.5,0.75]) |\n",
      "|(13,[1,6,7,10,11],[1.0,1.0,17.0,81.77,44.7])               |\n",
      "|(13,[0,2,7,10,11,12],[1.0,1.0,73.0,79.69,29.0,0.75])       |\n",
      "|(13,[0,1,7,8,10,11],[1.0,1.0,59.0,1.0,99.06,23.4])         |\n",
      "|(13,[0,3,5,7,10,11,12],[1.0,1.0,1.0,60.0,80.86,31.0,1.0])  |\n",
      "|(13,[1,5,7,10,11],[1.0,1.0,14.0,83.42,28.7])               |\n",
      "|[1.0,1.0,0.0,0.0,0.0,1.0,1.0,69.0,1.0,0.0,229.21,30.1,1.0] |\n",
      "|[1.0,0.0,0.0,1.0,0.0,1.0,1.0,70.0,0.0,0.0,202.55,29.0,0.75]|\n",
      "|(13,[1,5,7,10,11],[1.0,1.0,29.0,71.89,27.6])               |\n",
      "+-----------------------------------------------------------+\n",
      "only showing top 20 rows\n",
      "\n"
     ]
    }
   ],
   "source": [
    "predictions=predictions.transform(X_test)\n",
    "predictions.select(\"features\").show(truncate=False)"
   ]
  },
  {
   "cell_type": "code",
   "execution_count": 323,
   "id": "3ea267eb",
   "metadata": {
    "colab": {
     "base_uri": "https://localhost:8080/"
    },
    "id": "3ea267eb",
    "outputId": "cc2f6140-9adb-4ce3-cd27-fcb3fe563134"
   },
   "outputs": [
    {
     "name": "stdout",
     "output_type": "stream",
     "text": [
      "root\n",
      " |-- id: integer (nullable = true)\n",
      " |-- gender: integer (nullable = true)\n",
      " |-- age: double (nullable = true)\n",
      " |-- hypertension: integer (nullable = true)\n",
      " |-- heart_disease: integer (nullable = true)\n",
      " |-- ever_married: string (nullable = true)\n",
      " |-- work_type: string (nullable = true)\n",
      " |-- Residence_type: string (nullable = true)\n",
      " |-- avg_glucose_level: double (nullable = true)\n",
      " |-- bmi: double (nullable = true)\n",
      " |-- smoking_status: double (nullable = true)\n",
      " |-- stroke: integer (nullable = true)\n",
      " |-- ever_married_Index: double (nullable = false)\n",
      " |-- work_type_Index: double (nullable = false)\n",
      " |-- Residence_type_Index: double (nullable = false)\n",
      " |-- ever_married_OHE: vector (nullable = true)\n",
      " |-- work_type_OHE: vector (nullable = true)\n",
      " |-- Residence_type_OHE: vector (nullable = true)\n",
      " |-- features: vector (nullable = true)\n",
      " |-- rawPrediction: vector (nullable = true)\n",
      " |-- probability: vector (nullable = true)\n",
      " |-- prediction: double (nullable = false)\n",
      "\n"
     ]
    }
   ],
   "source": [
    "predictions.printSchema()"
   ]
  },
  {
   "cell_type": "code",
   "execution_count": 324,
   "id": "480d892e",
   "metadata": {
    "colab": {
     "base_uri": "https://localhost:8080/"
    },
    "id": "480d892e",
    "outputId": "7ba971b3-5b2c-469e-fa9f-7e3ddf6da49f"
   },
   "outputs": [
    {
     "name": "stdout",
     "output_type": "stream",
     "text": [
      "+----------+------+\n",
      "|prediction|stroke|\n",
      "+----------+------+\n",
      "|       0.0|     0|\n",
      "|       0.0|     0|\n",
      "|       0.0|     0|\n",
      "|       0.0|     0|\n",
      "|       0.0|     0|\n",
      "|       0.0|     0|\n",
      "|       0.0|     0|\n",
      "|       0.0|     1|\n",
      "|       0.0|     0|\n",
      "|       0.0|     0|\n",
      "|       0.0|     0|\n",
      "|       0.0|     1|\n",
      "|       0.0|     0|\n",
      "|       0.0|     0|\n",
      "|       0.0|     0|\n",
      "|       0.0|     0|\n",
      "|       0.0|     0|\n",
      "|       0.0|     0|\n",
      "|       0.0|     0|\n",
      "|       0.0|     0|\n",
      "+----------+------+\n",
      "only showing top 20 rows\n",
      "\n",
      "+----------+------+\n",
      "|prediction|stroke|\n",
      "+----------+------+\n",
      "+----------+------+\n",
      "\n",
      "+----------+-----+\n",
      "|prediction|count|\n",
      "+----------+-----+\n",
      "|       0.0|  953|\n",
      "+----------+-----+\n",
      "\n"
     ]
    }
   ],
   "source": [
    "predictions.select(\"prediction\", \"stroke\").show()\n",
    "predictions.select(\"prediction\", \"stroke\").where((F.col('prediction')==1)&(F.col('stroke')==1)).show()\n",
    "predictions.groupBy('prediction').count().show()"
   ]
  },
  {
   "cell_type": "markdown",
   "id": "3d570acb-9929-4d42-bbe3-bfa3d9f5fce0",
   "metadata": {},
   "source": [
    "### All predictions are zero!!!"
   ]
  },
  {
   "cell_type": "markdown",
   "id": "daec120f",
   "metadata": {
    "id": "daec120f"
   },
   "source": [
    "### Evaluate the model performance\n",
    "- Use <b>BinaryClassificationEvaluator</b>. This will calculate the <b>ROC</b>.\n",
    "- Set the parameters as follow:\n",
    "    - <b>rawPredictionCol='prediction'</b> and <b>labelCol='stroke'</b>"
   ]
  },
  {
   "cell_type": "code",
   "execution_count": 325,
   "id": "a7b5ad25",
   "metadata": {
    "id": "a7b5ad25"
   },
   "outputs": [],
   "source": [
    "from pyspark.ml.evaluation import BinaryClassificationEvaluator"
   ]
  },
  {
   "cell_type": "code",
   "execution_count": 326,
   "id": "44d3a1e6",
   "metadata": {
    "id": "44d3a1e6"
   },
   "outputs": [],
   "source": [
    "evaluatorROC = BinaryClassificationEvaluator(rawPredictionCol='prediction'\n",
    "                                             ,labelCol='stroke')"
   ]
  },
  {
   "cell_type": "code",
   "execution_count": 327,
   "id": "3adbe41f",
   "metadata": {
    "colab": {
     "base_uri": "https://localhost:8080/"
    },
    "id": "3adbe41f",
    "outputId": "0e4f4c47-7d9b-4fd9-a415-7edb554235cc"
   },
   "outputs": [
    {
     "data": {
      "text/plain": [
       "0.5"
      ]
     },
     "execution_count": 327,
     "metadata": {},
     "output_type": "execute_result"
    }
   ],
   "source": [
    "evaluatorROC.evaluate(predictions)"
   ]
  },
  {
   "cell_type": "markdown",
   "id": "40206589",
   "metadata": {
    "id": "40206589"
   },
   "source": [
    "### Improve Model Performance\n",
    "- You may noticed that <b>the target label is imbalanced</b>.\n",
    "- LogisticRegression classifier has a special parameter <b>weightCol</b> to deal with imbalanced class.\n",
    "- In order to use this parameter you must have a <b>weightCol</b> in your training dataframe.\n",
    "- In order to create this column you will need to define a <b>UDF</b> and apply it to the target label column.\n",
    "- Create a LogisticRegression classifier with <b>weightCol</b> parameter.\n",
    "- Build and train a pipeline model with the new LogisticRegression.\n",
    "- Perform the prediction on the test dataframe. \n",
    "- Select and show both prediction and label columns.\n",
    "- Explore the results for the label column stroke=1. i.e. select both columns (prediction,stroke) for stroke=1.<b>notice the result.</b> \n",
    "- Count the predicted 1 and 0 values.<b>notice the result.</b>   \n",
    "- Evaluate the model performance exactly as in the previous step.\n",
    "### YOU SHOULD OBTAIN  ROC > 0.65\n",
    "<BR>\n",
    "<b><font color='red'>Note: feel free to deal with the imbalanced cluster with the above method or another. However, you can only use methods applied on SPARK DATAFRAME</font></b>"
   ]
  },
  {
   "cell_type": "markdown",
   "id": "39f5ffce-7075-45a3-bfc2-f9c2a06d8245",
   "metadata": {},
   "source": [
    "### Add weightCol"
   ]
  },
  {
   "cell_type": "code",
   "execution_count": 328,
   "id": "FrwBnF4hMb8B",
   "metadata": {
    "colab": {
     "base_uri": "https://localhost:8080/"
    },
    "id": "FrwBnF4hMb8B",
    "outputId": "580d173e-f830-42db-d538-875c02f9ce26"
   },
   "outputs": [
    {
     "name": "stdout",
     "output_type": "stream",
     "text": [
      "+------+-----+\n",
      "|stroke|count|\n",
      "+------+-----+\n",
      "|     1|  202|\n",
      "|     0| 3835|\n",
      "+------+-----+\n",
      "\n"
     ]
    }
   ],
   "source": [
    "X_train.groupBy('stroke').count().show()\n"
   ]
  },
  {
   "cell_type": "code",
   "execution_count": 329,
   "id": "vYiYatwkMoVM",
   "metadata": {
    "colab": {
     "base_uri": "https://localhost:8080/"
    },
    "id": "vYiYatwkMoVM",
    "outputId": "f812aac5-198c-4e2a-f4bb-636bc71d3eba"
   },
   "outputs": [
    {
     "data": {
      "text/plain": [
       "202"
      ]
     },
     "execution_count": 329,
     "metadata": {},
     "output_type": "execute_result"
    }
   ],
   "source": [
    "count_ones = X_train.filter('stroke = 1').select('stroke').count()\n",
    "\n",
    "count_ones"
   ]
  },
  {
   "cell_type": "code",
   "execution_count": 330,
   "id": "f42cacb9-9af2-4849-be48-9c443aa7a008",
   "metadata": {},
   "outputs": [
    {
     "data": {
      "text/plain": [
       "3835"
      ]
     },
     "execution_count": 330,
     "metadata": {},
     "output_type": "execute_result"
    }
   ],
   "source": [
    "count_zeros = X_train.filter('stroke = 0').select('stroke').count()\n",
    "count_zeros"
   ]
  },
  {
   "cell_type": "code",
   "execution_count": 331,
   "id": "5fad7b4d-a583-4f18-b543-63c05971b6d2",
   "metadata": {},
   "outputs": [
    {
     "data": {
      "text/plain": [
       "4037"
      ]
     },
     "execution_count": 331,
     "metadata": {},
     "output_type": "execute_result"
    }
   ],
   "source": [
    "total = count_ones+ count_zeros\n",
    "total"
   ]
  },
  {
   "cell_type": "code",
   "execution_count": 332,
   "id": "AHCeotXrLLn6",
   "metadata": {
    "id": "AHCeotXrLLn6"
   },
   "outputs": [],
   "source": [
    "\n",
    "getRatio = F.udf(lambda x: count_zeros/total if x ==1 else count_ones/total , DoubleType())\n",
    "X_train = X_train.withColumn(\"Ratio\", getRatio('stroke'))\n"
   ]
  },
  {
   "cell_type": "code",
   "execution_count": 333,
   "id": "f31a2cff-d087-414a-813c-cac9beb5e102",
   "metadata": {},
   "outputs": [
    {
     "name": "stdout",
     "output_type": "stream",
     "text": [
      "+------+-------------------+\n",
      "|stroke|              Ratio|\n",
      "+------+-------------------+\n",
      "|     0|0.05003715630418628|\n",
      "|     0|0.05003715630418628|\n",
      "|     0|0.05003715630418628|\n",
      "|     0|0.05003715630418628|\n",
      "|     0|0.05003715630418628|\n",
      "|     0|0.05003715630418628|\n",
      "|     0|0.05003715630418628|\n",
      "|     0|0.05003715630418628|\n",
      "|     0|0.05003715630418628|\n",
      "|     0|0.05003715630418628|\n",
      "|     1| 0.9499628436958137|\n",
      "|     0|0.05003715630418628|\n",
      "|     0|0.05003715630418628|\n",
      "|     0|0.05003715630418628|\n",
      "|     0|0.05003715630418628|\n",
      "|     0|0.05003715630418628|\n",
      "|     0|0.05003715630418628|\n",
      "|     0|0.05003715630418628|\n",
      "|     0|0.05003715630418628|\n",
      "|     0|0.05003715630418628|\n",
      "+------+-------------------+\n",
      "only showing top 20 rows\n",
      "\n"
     ]
    }
   ],
   "source": [
    "X_train.select('stroke','Ratio').show()"
   ]
  },
  {
   "cell_type": "code",
   "execution_count": 342,
   "id": "00e034e9",
   "metadata": {
    "id": "00e034e9"
   },
   "outputs": [],
   "source": [
    "\n",
    "LRW =LogisticRegression(featuresCol = 'features', labelCol = 'stroke', weightCol='Ratio')\n",
    "pipeline = Pipeline(stages=[stringIndexer,oheEncoder,vecAssembler,LRW])\n",
    "\n",
    "predictions = pipeline.fit(X_train)\n"
   ]
  },
  {
   "cell_type": "code",
   "execution_count": 344,
   "id": "66efa0c6",
   "metadata": {
    "id": "66efa0c6"
   },
   "outputs": [],
   "source": [
    "pred_W=predictions.transform(X_test)\n",
    "evaluatorROC = BinaryClassificationEvaluator(rawPredictionCol='prediction'\n",
    "                                             ,labelCol='stroke')"
   ]
  },
  {
   "cell_type": "code",
   "execution_count": 345,
   "id": "18b15f08-6fd7-4d1b-9844-5f078891f8b9",
   "metadata": {},
   "outputs": [
    {
     "data": {
      "text/plain": [
       "287"
      ]
     },
     "execution_count": 345,
     "metadata": {},
     "output_type": "execute_result"
    }
   ],
   "source": [
    "pred_W.filter(\"prediction = 1\").count()\n"
   ]
  },
  {
   "cell_type": "code",
   "execution_count": 346,
   "id": "af6a1a49-3288-4295-b0da-555c1874ed68",
   "metadata": {},
   "outputs": [
    {
     "data": {
      "text/plain": [
       "666"
      ]
     },
     "execution_count": 346,
     "metadata": {},
     "output_type": "execute_result"
    }
   ],
   "source": [
    "pred_W.filter(\"prediction = 0\").count()\n"
   ]
  },
  {
   "cell_type": "code",
   "execution_count": 347,
   "id": "4e8c18b5",
   "metadata": {
    "colab": {
     "base_uri": "https://localhost:8080/"
    },
    "id": "4e8c18b5",
    "outputId": "4f748848-5b40-4edb-f0a7-25d52b4106b6"
   },
   "outputs": [
    {
     "data": {
      "text/plain": [
       "0.7757777671252577"
      ]
     },
     "execution_count": 347,
     "metadata": {},
     "output_type": "execute_result"
    }
   ],
   "source": [
    "evaluatorROC.evaluate(pred_W)"
   ]
  },
  {
   "cell_type": "markdown",
   "id": "de8d3aad-86c8-4382-8513-2baf6b714cbd",
   "metadata": {},
   "source": [
    "### ROC Increased to 0.7758 !!!"
   ]
  },
  {
   "cell_type": "markdown",
   "id": "e00e7b53",
   "metadata": {
    "id": "e00e7b53"
   },
   "source": [
    "# GOOD LUCK\n",
    "<b><font color='GREEN'>AI-PRO Spark Team ITI</font></b>"
   ]
  }
 ],
 "metadata": {
  "colab": {
   "name": "Copy of Spark and Python for Big Data Final Exam.ipynb",
   "provenance": []
  },
  "kernelspec": {
   "display_name": "Python 3 (ipykernel)",
   "language": "python",
   "name": "python3"
  },
  "language_info": {
   "codemirror_mode": {
    "name": "ipython",
    "version": 3
   },
   "file_extension": ".py",
   "mimetype": "text/x-python",
   "name": "python",
   "nbconvert_exporter": "python",
   "pygments_lexer": "ipython3",
   "version": "3.9.7"
  }
 },
 "nbformat": 4,
 "nbformat_minor": 5
}
